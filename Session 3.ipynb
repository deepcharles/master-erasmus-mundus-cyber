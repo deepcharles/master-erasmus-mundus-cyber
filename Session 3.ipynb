{
 "cells": [
  {
   "cell_type": "markdown",
   "metadata": {},
   "source": [
    "# Introduction to signal processing (Master Erasmus Mundus CYBER)\n",
    "\n",
    "\n",
    "https://github.com/deepcharles/master-erasmus-mundus-cyber"
   ]
  },
  {
   "attachments": {},
   "cell_type": "markdown",
   "metadata": {},
   "source": [
    "This session is dedicated to change-point detection."
   ]
  },
  {
   "cell_type": "markdown",
   "metadata": {},
   "source": [
    "## 1. Library and data loading"
   ]
  },
  {
   "cell_type": "code",
   "execution_count": null,
   "metadata": {
    "tags": []
   },
   "outputs": [],
   "source": [
    "from typing import List\n",
    "\n",
    "import numpy as np\n",
    "from numpy.typing import NDArray\n",
    "import matplotlib.pyplot as plt\n",
    "import librosa\n",
    "import numpy as np\n",
    "from IPython.display import Audio, display\n",
    "import ruptures as rpt\n"
   ]
  },
  {
   "cell_type": "code",
   "execution_count": null,
   "metadata": {
    "tags": []
   },
   "outputs": [],
   "source": [
    "def fig_ax(figsize=(20, 5)):\n",
    "    fig, ax = plt.subplots(figsize=figsize)\n",
    "    ax.set_xmargin(0)\n",
    "    return fig, ax"
   ]
  },
  {
   "attachments": {},
   "cell_type": "markdown",
   "metadata": {},
   "source": [
    "## Change-point detection on synthetic signals\n",
    "Change point detection consists in finding the temporal boundaries of homogeneous portions of a signal.\n",
    "\n",
    "The simplest (and oldest) change point detection methods deals with mean shifts.\n",
    "\n",
    "#### Single change point\n",
    "We start by trying to detect a single shift in mean (in a synthetic signal).\n"
   ]
  },
  {
   "cell_type": "code",
   "execution_count": null,
   "metadata": {},
   "outputs": [],
   "source": [
    "# generate signal\n",
    "n_samples = 200\n",
    "n_bkps = 1\n",
    "n_dims = 1\n",
    "sigma_noise = 2\n",
    "signal, bkps = rpt.pw_constant(\n",
    "    n_samples=n_samples, n_features=n_dims, n_bkps=n_bkps, noise_std=0\n",
    ")\n",
    "signal_with_noise = signal + np.random.normal(\n",
    "    scale=sigma_noise, size=signal.shape\n",
    ")\n",
    "\n",
    "fig, ax = fig_ax()\n",
    "ax.plot(signal, label=\"True\")\n",
    "ax.plot(signal_with_noise, label=\"Observed\")\n",
    "_ = plt.legend()"
   ]
  },
  {
   "attachments": {},
   "cell_type": "markdown",
   "metadata": {},
   "source": [
    "We fit the noisy signal with a piecewise constant function with a single discontinuity. The best fit is the function which minimizes the norm of the residuals.\n",
    "\n",
    "For a $T$-sample signal $y$ and an index $a$, this amounts to:\n",
    "\n",
    "$$\n",
    "\\sum_{t< a} \\|y_t-\\bar{y}_{0..a}\\|^2 + \\sum_{t\\geq a} \\|y_t-\\bar{y}_{a..T}\\|^2\n",
    "$$\n",
    "\n",
    "where $\\bar{y}_{\\text{left}}$ and $\\bar{y}_{\\text{right}}$ are the empirical means of $\\{y_0,\\dots,y_{a-1}\\}$ and $\\{y_a,\\dots,y_{T-1}\\}$ respectively.\n",
    "\n",
    "The detection procedure consists in finding the index $a$ that minimizes this sum of costs."
   ]
  },
  {
   "cell_type": "code",
   "execution_count": null,
   "metadata": {},
   "outputs": [],
   "source": [
    "sum_of_cost_list = list()\n",
    "\n",
    "admissible_change_points = np.arange(1, n_samples - 1)\n",
    "\n",
    "for mid_point in admissible_change_points:\n",
    "    sum_of_cost = signal_with_noise[\n",
    "        :mid_point\n",
    "    ].var() * mid_point + signal_with_noise[mid_point:].var() * (\n",
    "        n_samples - mid_point\n",
    "    )\n",
    "    sum_of_cost_list.append(sum_of_cost)\n",
    "\n",
    "fig, ax = fig_ax(figsize=(6, 3))\n",
    "ax.plot(admissible_change_points, sum_of_cost_list)\n",
    "\n",
    "# take the minimum sum of costs\n",
    "detected_change_point = admissible_change_points[np.argmin(sum_of_cost_list)]\n",
    "\n",
    "# add a vertical dashed line\n",
    "ax.axvline(detected_change_point, ls=\"--\", color=\"k\")"
   ]
  },
  {
   "attachments": {},
   "cell_type": "markdown",
   "metadata": {},
   "source": [
    "<div class=\"alert alert-success\" role=\"alert\">\n",
    "    <p><b>Question</b></p>\n",
    "    <p>What happens to the sum of costs when the noise varies?</p>\n",
    "    <p>And when the number of samples increases?</p>\n",
    "</div>"
   ]
  },
  {
   "attachments": {},
   "cell_type": "markdown",
   "metadata": {},
   "source": [
    "#### Multiple change points (known $K$)\n",
    "\n",
    "To extend the detection to more than one change, we simply some the costs of each segment defined by the $K$ change points $t_1,\\dots,t_K$:\n",
    "\n",
    "$$\n",
    "\\sum_{t=0}^{t_1-1} \\|y_t-\\bar{y}_{0..t_1}\\|^2 + \\sum_{t=t_1}^{t_2-1} \\|y_t-\\bar{y}_{t_1..t_2}\\|^2 + \\dots + \\sum_{t=t_K}^{T-1} \\|y_t-\\bar{y}_{t_K..T}\\|^2.\n",
    "$$\n",
    "\n",
    "We minimize over the $t_k$, using dynamic programming. (Other methods exists, e.g. binary segmentation, bottom-up, window-based, but are only approximate.)"
   ]
  },
  {
   "cell_type": "code",
   "execution_count": null,
   "metadata": {},
   "outputs": [],
   "source": [
    "# generate signal\n",
    "n_samples = 200\n",
    "n_bkps = 3\n",
    "n_dims = 2\n",
    "sigma_noise = 5\n",
    "signal, bkps = rpt.pw_constant(\n",
    "    n_samples=n_samples, n_features=n_dims, n_bkps=n_bkps, noise_std=0\n",
    ")\n",
    "signal_with_noise = signal + np.random.normal(\n",
    "    scale=sigma_noise, size=signal.shape\n",
    ")\n",
    "\n",
    "# display\n",
    "fig, ax_arr = plt.subplots(nrows=n_dims, figsize=(20, 3*n_dims))\n",
    "for (signal1d, signal1d_with_noise, ax) in zip(\n",
    "    signal.T, signal_with_noise.T, ax_arr\n",
    "):\n",
    "    ax.plot(signal1d)\n",
    "    ax.plot(signal1d_with_noise)\n",
    "    ax.set_xlim(0, n_samples)"
   ]
  },
  {
   "attachments": {},
   "cell_type": "markdown",
   "metadata": {},
   "source": [
    "Perform change point detection using dynamic programming."
   ]
  },
  {
   "cell_type": "code",
   "execution_count": null,
   "metadata": {},
   "outputs": [],
   "source": [
    "algo = rpt.Dynp(model=\"l2\", jump=1).fit(signal_with_noise)"
   ]
  },
  {
   "cell_type": "code",
   "execution_count": null,
   "metadata": {},
   "outputs": [],
   "source": [
    "predicted_bkps = algo.predict(n_bkps=n_bkps)\n",
    "\n",
    "fig, ax_arr = rpt.display(signal, bkps, predicted_bkps)\n",
    "for (signal1d_with_noise, ax) in zip(signal_with_noise.T, ax_arr):\n",
    "    ax.plot(signal1d_with_noise)\n",
    "    ax.set_xlim(0, n_samples)"
   ]
  },
  {
   "attachments": {},
   "cell_type": "markdown",
   "metadata": {},
   "source": [
    "<div class=\"alert alert-success\" role=\"alert\">\n",
    "    <p><b>Question</b></p>\n",
    "    <p>Write a function that computes the approximation error for a given set of change-points.</p>\n",
    "</div>"
   ]
  },
  {
   "cell_type": "code",
   "execution_count": null,
   "metadata": {},
   "outputs": [],
   "source": [
    "def get_approximation_error(signal: NDArray, bkps: List) -> float:\n",
    "    pass\n"
   ]
  },
  {
   "attachments": {},
   "cell_type": "markdown",
   "metadata": {},
   "source": [
    "In order to choose the number of change points, we use the elbow method. In the change point detection setting, this heuritic consists in:\n",
    "\n",
    "- plotting the approximation error for 1, 2,..., $K_{\\max}$ change-points,\n",
    "- picking the number of changes at the \"elbow\" of the curve.\n",
    "\n",
    "Intuitively, adding change points beyond the \"elbow\" only provides a marginal decrease of the sum of costs.\n",
    "Here, we set $K_{\\max}$:=20."
   ]
  },
  {
   "attachments": {},
   "cell_type": "markdown",
   "metadata": {},
   "source": [
    "<div class=\"alert alert-success\" role=\"alert\">\n",
    "    <p><b>Question</b></p>\n",
    "    <p>Implement the elbow heuristics.</p>\n",
    "</div>"
   ]
  },
  {
   "cell_type": "code",
   "execution_count": null,
   "metadata": {},
   "outputs": [],
   "source": [
    "n_bkps_max = 20  # K_max\n",
    "\n",
    "\n",
    "###\n",
    "# YOUR CODE HERE\n",
    "list_of_approx_errors = np.arange(1, n_bkps_max)\n",
    "###\n",
    "\n",
    "\n",
    "\n",
    "fig, ax = fig_ax((7, 4))\n",
    "ax.plot(\n",
    "    np.arange(1, n_bkps_max),\n",
    "    list_of_approx_errors,\n",
    "    \"-*\",\n",
    "    alpha=0.5,\n",
    ")\n",
    "ax.set_xticks(np.arange(1, n_bkps_max))\n",
    "ax.set_xlabel(\"Number of change points\")\n",
    "ax.set_title(\"Approximation error\")\n",
    "ax.grid(axis=\"x\")\n",
    "ax.set_xlim(0, n_bkps_max + 1)\n",
    "\n",
    "n_bkps = 10  # Change the value to change the location of the red dot\n",
    "_ = ax.scatter(\n",
    "    [n_bkps], [list_of_approx_errors[n_bkps-1]], color=\"r\", s=100\n",
    ")\n"
   ]
  },
  {
   "attachments": {},
   "cell_type": "markdown",
   "metadata": {},
   "source": [
    "## Change-point detection on audio signals"
   ]
  },
  {
   "attachments": {},
   "cell_type": "markdown",
   "metadata": {},
   "source": [
    "In this tutorial, we choose the *Dance of the Sugar Plum Fairy* from *The Nutcracker* by Tchaikovsky.\n",
    "\n",
    "We can listen to the music as well as display the sound envelope."
   ]
  },
  {
   "cell_type": "code",
   "execution_count": null,
   "metadata": {},
   "outputs": [],
   "source": [
    "duration = 30  # in seconds\n",
    "signal, sampling_rate = librosa.load(librosa.ex(\"nutcracker\"), duration=duration)\n",
    "\n",
    "# listen to the music\n",
    "display(Audio(data=signal, rate=sampling_rate))\n",
    "\n",
    "# look at the envelope\n",
    "fig, ax = fig_ax()\n",
    "ax.plot(np.arange(signal.size) / sampling_rate, signal)\n",
    "ax.set_xlim(0, signal.size / sampling_rate)\n",
    "ax.set_xlabel(\"Time (s)\")\n",
    "_ = ax.set(title=\"Sound envelope\")"
   ]
  },
  {
   "cell_type": "code",
   "execution_count": null,
   "metadata": {},
   "outputs": [],
   "source": [
    "def get_tempogram(signal: NDArray, fs: int, hop_length: int) -> NDArray:\n",
    "    # Compute the onset strength\n",
    "    oenv = librosa.onset.onset_strength(y=signal, sr=fs, hop_length=hop_length)\n",
    "    # Compute the tempogram\n",
    "    tempogram = librosa.feature.tempogram(\n",
    "        onset_envelope=oenv,\n",
    "        sr=sampling_rate,\n",
    "        hop_length=hop_length,\n",
    "    )\n",
    "    return tempogram\n",
    "\n",
    "hop_length = 256\n",
    "tempogram = get_tempogram(\n",
    "    signal=signal, fs=sampling_rate, hop_length=hop_length\n",
    ")\n",
    "\n",
    "# Display the tempogram\n",
    "fig, ax = fig_ax()\n",
    "_ = librosa.display.specshow(\n",
    "    tempogram,\n",
    "    ax=ax,\n",
    "    hop_length=hop_length,\n",
    "    sr=sampling_rate,\n",
    "    x_axis=\"s\",\n",
    "    y_axis=\"tempo\",\n",
    ")\n"
   ]
  },
  {
   "attachments": {},
   "cell_type": "markdown",
   "metadata": {},
   "source": [
    "<div class=\"alert alert-success\" role=\"alert\">\n",
    "    <p><b>Question</b></p>\n",
    "    <p>What are the dimensions of the tempogram? How many timestamps and how many BPMs?</p>\n",
    "    <p>Here, the tempogram is computed with a sliding window of 384 samples and a jump of 256 samples between window. What is the expected tempogram length?</p>\n",
    "</div>"
   ]
  },
  {
   "attachments": {},
   "cell_type": "markdown",
   "metadata": {},
   "source": [
    "<div class=\"alert alert-success\" role=\"alert\">\n",
    "    <p><b>Question</b></p>\n",
    "    <p>Perform change-point detection on the tempogram with 10 change-points. What are the change-points?</p>\n",
    "</div>"
   ]
  },
  {
   "attachments": {},
   "cell_type": "markdown",
   "metadata": {},
   "source": [
    "<div class=\"alert alert-success\" role=\"alert\">\n",
    "    <p><b>Question</b></p>\n",
    "    <p>Using the elbow heuristics, find the optimal number of change-points (take `K_max=20`).</p>\n",
    "</div>"
   ]
  },
  {
   "attachments": {},
   "cell_type": "markdown",
   "metadata": {},
   "source": [
    "<div class=\"alert alert-success\" role=\"alert\">\n",
    "    <p><b>Question</b></p>\n",
    "    <p>What are the final change-points? Convert the indexes in seconds.</p>\n",
    "</div>"
   ]
  },
  {
   "cell_type": "code",
   "execution_count": null,
   "metadata": {},
   "outputs": [],
   "source": [
    "bkps_times = ...  # put the estimated change-points, converted in seconds.\n",
    "\n",
    "# Displaying results\n",
    "fig, ax = fig_ax()\n",
    "_ = librosa.display.specshow(\n",
    "    tempogram,\n",
    "    ax=ax,\n",
    "    x_axis=\"s\",\n",
    "    y_axis=\"tempo\",\n",
    "    hop_length=hop_length_tempo,\n",
    "    sr=sampling_rate,\n",
    ")\n",
    "\n",
    "for b in bkps_times[:-1]:\n",
    "    ax.axvline(b, ls=\"--\", color=\"white\", lw=4)"
   ]
  },
  {
   "attachments": {},
   "cell_type": "markdown",
   "metadata": {},
   "source": [
    "Visually, the estimated change points indeed separate portions of signal with a relatively constant tempo profile. Going back to the original music signal, this intuition can be verified by listening to the individual segments defined by the changes points."
   ]
  },
  {
   "cell_type": "code",
   "execution_count": null,
   "metadata": {},
   "outputs": [],
   "source": [
    "# Compute change points corresponding indexes in original signal\n",
    "bkps_time_indexes = (sampling_rate * bkps_times).astype(int).tolist()\n",
    "\n",
    "for segment_number, (start, end) in enumerate(\n",
    "    rpt.utils.pairwise([0] + bkps_time_indexes), start=1\n",
    "):\n",
    "    segment = signal[start:end]\n",
    "    print(f\"Segment n°{segment_number} (duration: {segment.size/sampling_rate:.2f} s)\")\n",
    "    display(Audio(data=segment, rate=sampling_rate))\n"
   ]
  }
 ],
 "metadata": {
  "kernelspec": {
   "display_name": "Python 3 (ipykernel)",
   "language": "python",
   "name": "python3"
  },
  "language_info": {
   "codemirror_mode": {
    "name": "ipython",
    "version": 3
   },
   "file_extension": ".py",
   "mimetype": "text/x-python",
   "name": "python",
   "nbconvert_exporter": "python",
   "pygments_lexer": "ipython3",
   "version": "3.9.16"
  }
 },
 "nbformat": 4,
 "nbformat_minor": 4
}
