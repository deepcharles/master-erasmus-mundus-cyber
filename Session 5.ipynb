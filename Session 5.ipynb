{
 "cells": [
  {
   "cell_type": "markdown",
   "id": "bad2a1d8",
   "metadata": {},
   "source": [
    "# QUESTIONS- Part 1"
   ]
  },
  {
   "cell_type": "markdown",
   "id": "f6139628",
   "metadata": {},
   "source": [
    "Guid 1: Be Careful. Questions need multiple step to be responded correctly. For every step that you apply , you should write a small comment explaining what you are doing in every step. E.g. \n",
    "    \n",
    "    #Upload of dataset\n",
    "     code here\n",
    "     \n",
    "    #Save dataset\n",
    "     code here\n",
    "     \n",
    "Guid 2: At the end of your exams, the packages that you have used should be shown/called only ONCE in the code cell just below."
   ]
  },
  {
   "cell_type": "code",
   "execution_count": null,
   "id": "b2f5a5b8",
   "metadata": {},
   "outputs": [],
   "source": []
  },
  {
   "cell_type": "markdown",
   "id": "e5406b20-dce6-40fb-803a-75b9727bb650",
   "metadata": {},
   "source": [
    "## Question 1"
   ]
  },
  {
   "cell_type": "markdown",
   "id": "b92613e3-d836-4661-b5a2-374a532a8c11",
   "metadata": {},
   "source": [
    "<div class=\"alert alert-success\" role=\"alert\">\n",
    "    <p><b>Question 1</b></p>\n",
    "    <p>Your colleague from Cyber Hospital asked for analytic help with his dataset. He wants to find a way to see if some posturographic features can detect (predict) fall-prone individuals. However, after receiving the dataset, you realise that the dataset needs preprocessing before analysis. Upload the file `ExamTable.csv`. Please find the TWO particular issues and take all the appropriate steps to transform them into a new transformed table, ready to create a predictive model. Save the new transformed table as `transformed_ExamTable.csv`.</p> \n",
    "    \n",
    "</div>"
   ]
  },
  {
   "cell_type": "code",
   "execution_count": null,
   "id": "cb41d9d5-6d74-420b-a29f-2f7e3715a33d",
   "metadata": {
    "tags": []
   },
   "outputs": [],
   "source": []
  },
  {
   "cell_type": "markdown",
   "id": "76a71815",
   "metadata": {},
   "source": [
    "## Question 2"
   ]
  },
  {
   "cell_type": "markdown",
   "id": "1ee3d49c",
   "metadata": {},
   "source": [
    "Be Careful. Questions 2a 2b 2c are linked. 2b and 2c are going to be progressively integrated into the response of 2a, therefore you should copy-paste what you wrote in 2a in order to repond properly 2b and 2c."
   ]
  },
  {
   "cell_type": "markdown",
   "id": "02ecf2fc",
   "metadata": {
    "tags": []
   },
   "source": [
    "<div class=\"alert alert-success\" role=\"alert\">\n",
    "    <p><b>Question 2a</b></p>\n",
    "    <p>Import the new `transformed_ExamTable.csv` file and create a proper predictive model using\n",
    "    <p> 1. zscore normalization (standardization), </p>\n",
    "    <p> 2. stratified Kfold cross-validation sceme with 8 folds,</p>\n",
    "    <p> 3. linear Support Vector Machine (SVM) learning algorithm. </p>\n",
    "    <p> If you could not complete the first question, upload the ExamTable.csv and continue processing without keeping the \"problematic\" columns. </p>  \n",
    "</div>"
   ]
  },
  {
   "cell_type": "code",
   "execution_count": null,
   "id": "d744d4ed-97f5-4811-bd1f-103c74a3717f",
   "metadata": {
    "scrolled": true,
    "tags": []
   },
   "outputs": [],
   "source": []
  },
  {
   "cell_type": "markdown",
   "id": "6ebfc93b-0229-4c56-a413-79ac6ab66701",
   "metadata": {},
   "source": [
    "<div class=\"alert alert-success\" role=\"alert\">\n",
    "    <p><b>Question 2b</b></p>\n",
    "    <p>Evaluate the model that you created. Please choose an appropriate method and metric (or combination of metrics) to evaluate your dataset and print them as average plus/minus standard deviation. Your choice should reflect your way of thinking. Remember, you need to be fair with your results. It would help if you did not oversell or devalue your final model. Explain in 4 lines (maximum) in a separate markdown (not code cell) why you choose the specific metric or combination of metrics.</p>    \n",
    "</div>"
   ]
  },
  {
   "cell_type": "code",
   "execution_count": null,
   "id": "73630811",
   "metadata": {},
   "outputs": [],
   "source": []
  },
  {
   "cell_type": "markdown",
   "id": "58ac30cb",
   "metadata": {},
   "source": []
  },
  {
   "cell_type": "markdown",
   "id": "7f154964",
   "metadata": {},
   "source": [
    "<div class=\"alert alert-success\" role=\"alert\">\n",
    "    <p><b>Question 2c</b></p>\n",
    "    <p>Explain your results to your colleague, which are the five significant features in this predictive model. Create a nice bar chart and boxplots of those essential features compared to the two classes. What else could be helpful to show your colleague? Can you find a way to use the correlation matrix creatively to interpret your results?</p>    \n",
    "</div>"
   ]
  },
  {
   "cell_type": "code",
   "execution_count": null,
   "id": "26f48a49",
   "metadata": {},
   "outputs": [],
   "source": []
  },
  {
   "cell_type": "markdown",
   "id": "4a5e4843-e138-4e5e-811d-61f5dbbb5420",
   "metadata": {},
   "source": [
    "# QUESTIONS- Part 2"
   ]
  },
  {
   "cell_type": "code",
   "execution_count": null,
   "id": "df1dabd8-7e47-4286-8e49-038702541122",
   "metadata": {
    "tags": []
   },
   "outputs": [],
   "source": [
    "from dataclasses import dataclass\n",
    "\n",
    "import numpy as np\n",
    "import scipy\n",
    "from matplotlib import pyplot as plt\n",
    "from numpy.typing import NDArray"
   ]
  },
  {
   "cell_type": "code",
   "execution_count": null,
   "id": "9b3c611a-4bc4-488b-a3c4-e6750a279b9e",
   "metadata": {
    "tags": []
   },
   "outputs": [],
   "source": [
    "@dataclass\n",
    "class Datum:\n",
    "    left: NDArray  # angular velocity aroung axis (Oy) of the left foot\n",
    "    right: NDArray  # angular velocity aroung axis (Oy) of the right foot\n",
    "    age: int  # subject's age\n",
    "    label: str  # pathology group\n",
    "\n",
    "    @property\n",
    "    def n_samples(self) -> int:\n",
    "        return self.left.shape[0]"
   ]
  },
  {
   "cell_type": "code",
   "execution_count": null,
   "id": "5b49b96a-365b-4bba-bfb8-0e5d7d5efafe",
   "metadata": {
    "tags": []
   },
   "outputs": [],
   "source": [
    "# DATA is a list of trials. There are 221 trials in total\n",
    "DATA = np.load(\"DataTP.npz\", allow_pickle=True)[\"arr_0\"].tolist()\n",
    "\n",
    "\n",
    "def load_trial(trial_id: int) -> Datum:\n",
    "    \"\"\"This function return a given trial from `DATA`\n",
    "\n",
    "    load_trial(0) returns the first trial.\n",
    "    load_trial(220) returns the last trial.\n",
    "    \"\"\"\n",
    "    return Datum(**DATA[trial_id])"
   ]
  },
  {
   "cell_type": "markdown",
   "id": "a9c1516d-8cff-4531-9ede-62278c96d735",
   "metadata": {},
   "source": [
    "<div class=\"alert alert-success\" role=\"alert\">\n",
    "    <p><b>Question 1</b></p>\n",
    "    <p>We will work on the data described in the notebook `Session 1`.</p>\n",
    "    <ol>\n",
    "    <li>For each pathology group, compute the step frequency's minimum, maximum, mean and standard deviation (in Hz). Use the autocorrelation approach on the left foot's signal.</li>\n",
    "    <li>Is this feature enough to discriminate the group of leukoencephalopathy (LCA) and lower limb osteoarthrosis (ArtH and ArtG) and the rest?</li>\n",
    "    <li>What would be the error of using this feature to discriminate the two groups? Define the error you use.</li>\n",
    "    </ol>\n",
    "</div>"
   ]
  },
  {
   "cell_type": "code",
   "execution_count": null,
   "id": "9fb6020a-5874-4956-bbf4-ad7765651f06",
   "metadata": {
    "tags": []
   },
   "outputs": [],
   "source": [
    "def get_step_freq(signal) -> float:\n",
    "    \"\"\"Return the step frequency from the signal\n",
    "\n",
    "    Use the autocorrelation approach.\n",
    "    \"\"\"\n",
    "    ...  # put your code"
   ]
  }
 ],
 "metadata": {
  "kernelspec": {
   "display_name": "Python 3 (ipykernel)",
   "language": "python",
   "name": "python3"
  },
  "language_info": {
   "codemirror_mode": {
    "name": "ipython",
    "version": 3
   },
   "file_extension": ".py",
   "mimetype": "text/x-python",
   "name": "python",
   "nbconvert_exporter": "python",
   "pygments_lexer": "ipython3",
   "version": "3.9.16"
  }
 },
 "nbformat": 4,
 "nbformat_minor": 5
}
