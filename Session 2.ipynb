{
 "cells": [
  {
   "cell_type": "markdown",
   "metadata": {},
   "source": [
    "# Introduction to signal processing (Master Erasmus Mundus CYBER)\n",
    "\n",
    "\n",
    "https://github.com/deepcharles/master-erasmus-mundus-cyber"
   ]
  },
  {
   "cell_type": "markdown",
   "metadata": {},
   "source": [
    "This session is related to all pre-processing steps that can be used to transform a raw signal into a signal of interest for machine learning algorithms : denoising, detrending, removal of impulsive noise and interpolation."
   ]
  },
  {
   "cell_type": "markdown",
   "metadata": {},
   "source": [
    "<div class=\"alert alert-block alert-info\">\n",
    "\n",
    "1. **Library and data loading**\n",
    "2. **Exploratory study**\n",
    "3. **Denoising**\n",
    "4. **Detrending**\n",
    "5. **Detection and removal of impulsive noise**\n",
    "</div>"
   ]
  },
  {
   "cell_type": "markdown",
   "metadata": {},
   "source": [
    "## 1. Library and data loading"
   ]
  },
  {
   "cell_type": "code",
   "execution_count": null,
   "metadata": {
    "tags": []
   },
   "outputs": [],
   "source": [
    "from dataclasses import dataclass\n",
    "\n",
    "import numpy as np\n",
    "import scipy\n",
    "import statsmodels.api as sm\n",
    "from matplotlib import pyplot as plt\n",
    "from numpy.typing import NDArray\n",
    "from statsmodels.regression.linear_model import yule_walker\n",
    "from statsmodels.tsa.tsatools import detrend\n",
    "\n",
    "SAMPLING_FREQUENCY = 100  # Hz"
   ]
  },
  {
   "cell_type": "code",
   "execution_count": null,
   "metadata": {
    "tags": []
   },
   "outputs": [],
   "source": [
    "def fig_ax(figsize=(20, 5)):\n",
    "    fig, ax = plt.subplots(figsize=figsize)\n",
    "    ax.set_xmargin(0)\n",
    "    return fig, ax"
   ]
  },
  {
   "cell_type": "code",
   "execution_count": null,
   "metadata": {
    "tags": []
   },
   "outputs": [],
   "source": [
    "def plot_spectrogram(signal: NDArray, nperseg: int, noverlap: int):\n",
    "    \"\"\"Compute and display the spectrogram.\n",
    "\n",
    "    nperseg is the window length and noverlap is the overlap length.\n",
    "    \"\"\"\n",
    "    # Compute spectrogram\n",
    "    freqs, time_array, Sxx = scipy.signal.stft(\n",
    "        x=signal, fs=SAMPLING_FREQUENCY, nperseg=nperseg, noverlap=noverlap\n",
    "    )\n",
    "    # Display spectrogram\n",
    "    fig, ax = fig_ax(figsize=(10, 5))\n",
    "    ax.pcolormesh(time_array, freqs, abs(Sxx))\n",
    "    ax.set_xlabel(\"Time (second)\")\n",
    "    ax.set_ylabel(\"Frequency (Hz)\")"
   ]
  },
  {
   "cell_type": "code",
   "execution_count": null,
   "metadata": {
    "tags": []
   },
   "outputs": [],
   "source": [
    "def plot_periodogram(signal: NDArray, nperseg: int, ax=None):\n",
    "    # Compute spectrogram\n",
    "    freqs, Pxx_den = scipy.signal.welch(signal, fs=SAMPLING_FREQUENCY, nperseg=nperseg)\n",
    "    # Display spectrogram\n",
    "    if ax is None:\n",
    "        fig, ax = fig_ax(figsize=(10, 5))\n",
    "    ax.semilogy(freqs, Pxx_den)\n",
    "    ax.set_xlabel(\"Frequency (Hz)\")\n",
    "    ax.set_ylabel(\"PSD [V**2/Hz]\")"
   ]
  },
  {
   "cell_type": "code",
   "execution_count": null,
   "metadata": {
    "tags": []
   },
   "outputs": [],
   "source": [
    "@dataclass\n",
    "class Data:\n",
    "    x: NDArray\n",
    "    t: NDArray\n",
    "    y1: NDArray\n",
    "    y2: NDArray\n",
    "    y3: NDArray\n",
    "    y4: NDArray\n",
    "    n: int\n",
    "    n2: int\n",
    "    Fs: int\n",
    "\n",
    "    @property\n",
    "    def corrupted_index(self):\n",
    "        return (np.sort(np.round(self.n)) - 1).astype(int)\n",
    "\n",
    "    @property\n",
    "    def signal(self):\n",
    "        return self.x\n",
    "\n",
    "    @property\n",
    "    def signal_with_noise(self):\n",
    "        return self.y1\n",
    "\n",
    "    @property\n",
    "    def signal_with_trend(self):\n",
    "        return self.y2\n",
    "\n",
    "    @property\n",
    "    def signal_with_impulsive_noise(self):\n",
    "        return self.y3\n",
    "\n",
    "    @property\n",
    "    def time_array(self):\n",
    "        return self.t\n",
    "\n",
    "    @classmethod\n",
    "    def load(cls, fname: str) -> \"Data\":\n",
    "        data = np.load(fname)\n",
    "        return cls(**dict(list(data.items())))"
   ]
  },
  {
   "cell_type": "code",
   "execution_count": null,
   "metadata": {
    "tags": []
   },
   "outputs": [],
   "source": [
    "# Data loading\n",
    "data = Data.load(\"Session 2.npz\")"
   ]
  },
  {
   "cell_type": "markdown",
   "metadata": {},
   "source": [
    "## 2. Exploratory study"
   ]
  },
  {
   "cell_type": "code",
   "execution_count": null,
   "metadata": {
    "tags": []
   },
   "outputs": [],
   "source": [
    "print(f\"Sampling Frequency : {SAMPLING_FREQUENCY} Hz\")\n",
    "print(f\"Number of samples : {data.signal.shape[0]}\")\n",
    "\n",
    "\n",
    "fig, ax = fig_ax()\n",
    "ax.plot(data.time_array, data.signal)\n",
    "_ = ax.set_xlabel(\"Time (seconds)\")"
   ]
  },
  {
   "cell_type": "markdown",
   "metadata": {},
   "source": [
    "<div class=\"alert alert-success\" role=\"alert\">\n",
    "    <p><b>Question</b></p>\n",
    "    <p>What is the main frequency of the signal? (Use code from the previous session.)</p>\n",
    "</div>"
   ]
  },
  {
   "cell_type": "code",
   "execution_count": null,
   "metadata": {},
   "outputs": [],
   "source": []
  },
  {
   "cell_type": "markdown",
   "metadata": {},
   "source": [
    "## 3. Denoising"
   ]
  },
  {
   "cell_type": "markdown",
   "metadata": {},
   "source": [
    "A popular solution for denoising a signal consists in filtering the signal with appropriate cut frequencies. One practical procedure is to study the PSD of the noisy signal in order to estimate the frequency bands that are unlikely to belong to the signal."
   ]
  },
  {
   "cell_type": "code",
   "execution_count": null,
   "metadata": {
    "tags": []
   },
   "outputs": [],
   "source": [
    "# Plot of the original and noisy signals\n",
    "fig, ax = fig_ax()\n",
    "ax.plot(data.time_array, data.signal, label=\"Original signal\")\n",
    "ax.plot(data.time_array, data.signal_with_noise, label=\"Noisy signal\")\n",
    "_ = ax.set_xlabel(\"Time (seconds)\")\n",
    "_ = plt.legend()"
   ]
  },
  {
   "cell_type": "code",
   "execution_count": null,
   "metadata": {
    "tags": []
   },
   "outputs": [],
   "source": [
    "fig, ax = fig_ax(figsize=(10, 5))\n",
    "plot_periodogram(signal=data.signal, nperseg=256, ax=ax)\n",
    "plot_periodogram(signal=data.signal_with_noise, nperseg=256, ax=ax)\n",
    "_ = ax.set_xlim(0, 20)"
   ]
  },
  {
   "cell_type": "markdown",
   "metadata": {},
   "source": [
    "According to the PSD, it appears that most of the power of the original signal lies in the frequency band before 10 Hz: the remaining content is likely to be only composed of noise. Therefore, we can perform denoising by applying a low-pass filter"
   ]
  },
  {
   "cell_type": "markdown",
   "metadata": {},
   "source": [
    "<div class=\"alert alert-success\" role=\"alert\">\n",
    "    <p><b>Question</b></p>\n",
    "    <p>Apply a low-pass filter? (Use the code from the previous session.)</p>\n",
    "</div>"
   ]
  },
  {
   "cell_type": "code",
   "execution_count": null,
   "metadata": {},
   "outputs": [],
   "source": [
    "# filter signal\n",
    "cutoff_freq = ...  # your code\n",
    "filtered = ...  # your code\n",
    "\n",
    "fig, ax = fig_ax()\n",
    "\n",
    "# Plot angular velocities\n",
    "ax.plot(data.time_array, data.signal_with_noise, label=\"Noisy signal\")\n",
    "ax.plot(data.time_array, filtered, label=\"Filtered\")\n",
    "\n",
    "# add labels to axis and title\n",
    "ax.set_xlabel(\"Time (s)\")\n",
    "_ = plt.legend()"
   ]
  },
  {
   "cell_type": "markdown",
   "metadata": {
    "tags": []
   },
   "source": [
    "## 4. Detrending\n",
    "\n",
    "Trends can be removed either by using low-pass filtering or by using a regression on a set of smooth functions such as polynoms (see Session 3) so as to extract the trend component"
   ]
  },
  {
   "cell_type": "code",
   "execution_count": null,
   "metadata": {},
   "outputs": [],
   "source": [
    "# compute trend signal\n",
    "detrended = detrend(data.signal_with_trend, order=1)\n",
    "\n",
    "fig, ax = fig_ax()\n",
    "# Plot angular velocities\n",
    "ax.plot(data.time_array, data.signal, label=\"Original signal\")\n",
    "ax.plot(data.time_array, detrended, label=\"Detrended signal\")\n",
    "\n",
    "# add labels to axis and title\n",
    "ax.set_xlabel(\"Time (s)\")\n",
    "_ = plt.legend()"
   ]
  },
  {
   "cell_type": "code",
   "execution_count": null,
   "metadata": {},
   "outputs": [],
   "source": [
    "fig, ax = fig_ax()\n",
    "# Plot angular velocities\n",
    "ax.plot(data.time_array, data.signal, label=\"Original signal\")\n",
    "ax.plot(data.time_array, data.signal_with_trend - detrended, label=\"Trend\")\n",
    "\n",
    "# add labels to axis and title\n",
    "ax.set_xlabel(\"Time (s)\")\n",
    "_ = plt.legend()"
   ]
  },
  {
   "cell_type": "markdown",
   "metadata": {},
   "source": [
    "<div class=\"alert alert-success\" role=\"alert\">\n",
    "    <p><b>Question</b></p>\n",
    "    <p>What is the best polynomial degree for the trend?</p>\n",
    "</div>"
   ]
  },
  {
   "cell_type": "code",
   "execution_count": null,
   "metadata": {},
   "outputs": [],
   "source": []
  },
  {
   "cell_type": "markdown",
   "metadata": {},
   "source": [
    "## 5. Detection and removal of impulsive noise"
   ]
  },
  {
   "cell_type": "markdown",
   "metadata": {},
   "source": [
    "Impulsive noise of small lengths (several samples) can be suppressed by applying non linear filters such as median filters. In case of large bursts (more than 10 samples), impulsive noise has to be handled in two phases : detection (finding the locations of the corrupted samples) and interpolation (replacing corrupted samples with more appropriate values). \n",
    "\n",
    "* **Detection phase :** given estimates of the AR parameters, computation of the quantity $$d[n]=x[n]+\\sum_{i=1}^p \\hat{a}_i x[n-i]$$ The set of corrupted samples can determined as $$\\mathcal{T} = \\left\\lbrace n \\mbox{ s.t. } |d[n]|>\\lambda \\right\\rbrace$$\n",
    "* **Interpolation phase :** minimization of the quantity $$\\sum_{n=p+1}^{N-1}\\left|x[n] + \\sum_{i=1}^p \\hat{a}_i x[n-i]\\right|^2$$"
   ]
  },
  {
   "cell_type": "code",
   "execution_count": null,
   "metadata": {
    "tags": []
   },
   "outputs": [],
   "source": [
    "# Plot of the original and noisy signals\n",
    "\n",
    "fig, ax = fig_ax()\n",
    "ax.plot(data.time_array, data.signal, label=\"Signal\")\n",
    "ax.plot(\n",
    "    data.time_array,\n",
    "    data.signal_with_impulsive_noise,\n",
    "    label=\"Signal with impulsive noise\",\n",
    ")\n",
    "\n",
    "plt.xlabel(\"Time (seconds)\")\n",
    "_ = plt.legend()"
   ]
  },
  {
   "cell_type": "code",
   "execution_count": null,
   "metadata": {
    "tags": []
   },
   "outputs": [],
   "source": [
    "# Naive approach : Median filtering\n",
    "filtered = scipy.signal.medfilt(data.signal_with_impulsive_noise, kernel_size=3)\n",
    "\n",
    "fig, ax = fig_ax()\n",
    "ax.plot(\n",
    "    data.time_array,\n",
    "    data.signal_with_impulsive_noise,\n",
    "    label=\"Signal with impulsive noise\",\n",
    ")\n",
    "ax.plot(data.time_array, filtered, label=\"Median filter\")\n",
    "ax.set_xlabel(\"Time (seconds)\")\n",
    "_ = plt.legend()"
   ]
  },
  {
   "cell_type": "markdown",
   "metadata": {},
   "source": [
    "<div class=\"alert alert-success\" role=\"alert\">\n",
    "    <p><b>Question</b></p>\n",
    "    <p>What happens when the kernel size increases?</p>\n",
    "</div>"
   ]
  },
  {
   "cell_type": "code",
   "execution_count": null,
   "metadata": {},
   "outputs": [],
   "source": []
  },
  {
   "cell_type": "code",
   "execution_count": null,
   "metadata": {
    "tags": []
   },
   "outputs": [],
   "source": [
    "# Detection of corrupted samples based on AR model\n",
    "def detection_impulsive(x, p, K):\n",
    "    # Estimation of the AR parameters\n",
    "    a, sigma_e = yule_walker(x, p, method=\"mle\", demean=False)\n",
    "    Nw = np.size(x)\n",
    "    # Computation of the prediction error\n",
    "    d = np.zeros((Nw,))\n",
    "    for j in range(p, Nw):\n",
    "        d[j] = x[j] - np.sum(np.dot(x[j - p : j], np.flip(a)))\n",
    "    d = np.abs(d)\n",
    "    # Thresholding the prediction error to find the locations of the corrupted samples\n",
    "    lambda_K = K * sigma_e\n",
    "    T = np.where(d > lambda_K)\n",
    "    T = T[0]\n",
    "    T = T[(T > p - 1) & (T < Nw - p)]\n",
    "    return T"
   ]
  },
  {
   "cell_type": "code",
   "execution_count": null,
   "metadata": {
    "tags": []
   },
   "outputs": [],
   "source": [
    "p = 10  # Order of the model\n",
    "K = 1  # Detection threshold\n",
    "T = detection_impulsive(data.signal_with_impulsive_noise, p, K)\n",
    "\n",
    "fig, ax = fig_ax()\n",
    "ax.plot(data.time_array, data.signal_with_impulsive_noise)\n",
    "ax.plot(data.time_array[T], data.signal_with_impulsive_noise[T], \"o\")\n",
    "_ = ax.set_xlabel(\"Time (seconds)\")"
   ]
  },
  {
   "cell_type": "code",
   "execution_count": null,
   "metadata": {
    "tags": []
   },
   "outputs": [],
   "source": [
    "# Interpolation based on AR model\n",
    "def interpolation_impulsive(x, p, T):\n",
    "    a, sigma_e = yule_walker(x, p, method=\"mle\", demean=False)\n",
    "    Nw = np.size(x)\n",
    "    a = np.concatenate(([1], -a))\n",
    "    m = np.size(T)\n",
    "    b = np.zeros((p + 1,))\n",
    "    for i in range(p + 1):\n",
    "        b[i] = np.sum(np.dot(a[0 : p - i + 1], a[i : p + 1]))\n",
    "\n",
    "    B = np.zeros((m, m))\n",
    "    for i in range(m):\n",
    "        for j in range(m):\n",
    "            if np.abs(T[i] - T[j]) < p + 1:\n",
    "                B[i, j] = b[np.abs(T[i] - T[j])]\n",
    "\n",
    "    z = np.zeros((m,))\n",
    "    for i in range(m):\n",
    "        for k in range(-p, p + 1):\n",
    "            if np.all(T != T[i] - k):\n",
    "                z[i] = z[i] + b[np.abs(k)] * x[T[i] - k]\n",
    "\n",
    "    y = -np.dot(np.linalg.inv(B), z)\n",
    "    return y"
   ]
  },
  {
   "cell_type": "code",
   "execution_count": null,
   "metadata": {
    "tags": []
   },
   "outputs": [],
   "source": [
    "# Interpolation when the locations of corrupted samples are known\n",
    "\n",
    "p = 1  # Order of the model\n",
    "filtered_points = interpolation_impulsive(\n",
    "    data.signal_with_impulsive_noise, p, data.corrupted_index\n",
    ")\n",
    "\n",
    "filtered = np.copy(data.signal_with_impulsive_noise)\n",
    "filtered[data.corrupted_index] = filtered_points\n",
    "\n",
    "fig, ax = fig_ax()\n",
    "ax.plot(data.time_array, data.signal, label=\"Original\")\n",
    "ax.plot(data.time_array, filtered, label=\"Denoized\")\n",
    "plt.xlabel(\"Time (seconds)\")\n",
    "_ = plt.legend()"
   ]
  },
  {
   "cell_type": "markdown",
   "metadata": {},
   "source": [
    "<div class=\"alert alert-success\" role=\"alert\">\n",
    "    <p><b>Question</b></p>\n",
    "    <p>What is the best filter order?</p>\n",
    "</div>"
   ]
  },
  {
   "cell_type": "code",
   "execution_count": null,
   "metadata": {},
   "outputs": [],
   "source": []
  }
 ],
 "metadata": {
  "kernelspec": {
   "display_name": "Python 3 (ipykernel)",
   "language": "python",
   "name": "python3"
  },
  "language_info": {
   "codemirror_mode": {
    "name": "ipython",
    "version": 3
   },
   "file_extension": ".py",
   "mimetype": "text/x-python",
   "name": "python",
   "nbconvert_exporter": "python",
   "pygments_lexer": "ipython3",
   "version": "3.9.16"
  }
 },
 "nbformat": 4,
 "nbformat_minor": 4
}
